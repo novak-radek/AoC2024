{
 "cells": [
  {
   "cell_type": "code",
   "execution_count": null,
   "metadata": {},
   "outputs": [
    {
     "name": "stdout",
     "output_type": "stream",
     "text": [
      "1970720\n"
     ]
    }
   ],
   "source": [
    "import numpy as np\n",
    "import pandas as pd\n",
    "\n",
    "list_1, list_2 = [], []\n",
    "\n",
    "with open('1.txt') as f:\n",
    "    for line in f.readlines():\n",
    "        line = line.strip().split()\n",
    "        list_1.append(int(line[0]))\n",
    "        list_2.append(int(line[1]))\n",
    "\n",
    "list_1 = np.array(sorted(list_1))\n",
    "list_2 = np.array(sorted(list_2))\n",
    "\n",
    "print(sum(np.abs(list_1 - list_2)))\n",
    "\n",
    "df = pd.DataFrame(list_1, columns=['location_id']).merge(\n",
    "    pd.Series(list_2).value_counts().to_frame().reset_index(names='location_id'),\n",
    "    on='location_id',\n",
    "    how='left'\n",
    ")\n",
    "df['count'] = df['count'].fillna(0)\n",
    "df['result'] = df['location_id'] * df['count']\n",
    "print(int(df['result'].sum()))"
   ]
  },
  {
   "cell_type": "code",
   "execution_count": null,
   "metadata": {},
   "outputs": [],
   "source": []
  },
  {
   "cell_type": "code",
   "execution_count": null,
   "metadata": {},
   "outputs": [],
   "source": []
  },
  {
   "cell_type": "code",
   "execution_count": null,
   "metadata": {},
   "outputs": [],
   "source": []
  }
 ],
 "metadata": {
  "kernelspec": {
   "display_name": "Python 3",
   "language": "python",
   "name": "python3"
  },
  "language_info": {
   "codemirror_mode": {
    "name": "ipython",
    "version": 3
   },
   "file_extension": ".py",
   "mimetype": "text/x-python",
   "name": "python",
   "nbconvert_exporter": "python",
   "pygments_lexer": "ipython3",
   "version": "3.11.4"
  }
 },
 "nbformat": 4,
 "nbformat_minor": 2
}
